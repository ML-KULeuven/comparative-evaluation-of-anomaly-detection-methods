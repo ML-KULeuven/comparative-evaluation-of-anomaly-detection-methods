{
 "cells": [
  {
   "cell_type": "markdown",
   "metadata": {},
   "source": [
    "# Validation vs test set performance plot and related numbers"
   ]
  },
  {
   "cell_type": "code",
   "execution_count": 1,
   "metadata": {},
   "outputs": [],
   "source": [
    "import pandas as pd \n",
    "import numpy as np\n",
    "from pathlib import Path\n",
    "from ODD.analysis.hyperparameters import select_peak_performance, select_best_average_performance, calculate_best_average_performance\n",
    "from ODD.analysis.result_processing import average_performance_per_method, average_aligned_ranks_with_versions, average_ranks_with_versions, average_ranks_with_versions_and_nemenyi\n",
    "from ODD.analysis.result_analysis_charts import *\n",
    "from ODD.analysis.dataset_selection import get_datasets_to_use\n",
    "from ODD.analysis.validation_set import  get_data_df\n",
    "from tqdm import tqdm\n",
    "import altair as alt \n",
    "alt.data_transformers.disable_max_rows()\n",
    "# alt.renderers.enable('png')\n",
    "from collections import defaultdict\n"
   ]
  },
  {
   "cell_type": "code",
   "execution_count": 2,
   "metadata": {},
   "outputs": [],
   "source": [
    "%load_ext autoreload\n",
    "%autoreload 2"
   ]
  },
  {
   "cell_type": "markdown",
   "metadata": {},
   "source": [
    "# Config"
   ]
  },
  {
   "cell_type": "code",
   "execution_count": 3,
   "metadata": {},
   "outputs": [],
   "source": [
    "VERSION = 1 \n",
    "algorithms = ['CBLOF', 'HBOS', 'IForest', 'KNN' , 'LOF', 'OCSVM']\n",
    "grid_versions_to_use = defaultdict(lambda: 1)\n",
    "grid_versions_to_use['HBOS'] = 2\n",
    "grid_versions_to_use['CBLOF'] = 2\n",
    "grid_versions_to_use['IForest'] = 2\n",
    "grid_versions_to_use['OCSVM'] = 3\n",
    "result_path = Path()/'results'\n",
    "processed_path = Path()/'processed_results_v5'"
   ]
  },
  {
   "cell_type": "code",
   "execution_count": 4,
   "metadata": {},
   "outputs": [],
   "source": [
    "def big_chart(chart): \n",
    "    return chart.configure_axis(\n",
    "        labelFontSize=25,\n",
    "        titleFontSize=25, \n",
    "        labelLimit = 0,\n",
    "#         labelAngle = 45\n",
    "    ).configure_legend(\n",
    "            titleFontSize=25,\n",
    "            labelFontSize=25,\n",
    "            strokeColor=\"black\",\n",
    "            strokeWidth=3,\n",
    "            # fillColor=\"#EEEEEEC8\",\n",
    "            padding=10,\n",
    "            cornerRadius=0,\n",
    "            symbolSize=300,\n",
    "            symbolStrokeWidth=4,\n",
    "            labelLimit=0,\n",
    "            titleLimit=0,\n",
    "            #         orient = 'bottom'\n",
    "            orient=\"right\"\n",
    "    ).configure_title(\n",
    "        fontSize = 25,\n",
    "        subtitleFontSize = 25\n",
    "    )"
   ]
  },
  {
   "cell_type": "markdown",
   "metadata": {},
   "source": [
    "## Helper functions"
   ]
  },
  {
   "cell_type": "code",
   "execution_count": 5,
   "metadata": {},
   "outputs": [],
   "source": [
    "datasets_to_use = pd.read_pickle(Path()/'used_datasets'/'used_all_datasets.pkl')\n"
   ]
  },
  {
   "cell_type": "code",
   "execution_count": 6,
   "metadata": {},
   "outputs": [],
   "source": [
    "def read_validation_set_performance_df(path, datasets_to_use): \n",
    "    dfs = []\n",
    "    for algo in algorithms: \n",
    "        df = pd.read_csv(path/f'{algo}.csv')\n",
    "        dfs.append(df) \n",
    "    result_df = (\n",
    "        # concat the dataframes\n",
    "        pd.concat(dfs, axis =0 , ignore_index = True)\n",
    "        # select the usefull columns\n",
    "        [['algo_name', 'dataset_id', 'anomaly_fraction', 'validation_auc', 'test_auc', 'test_ap', 'full_auc', 'full_ap']]\n",
    "        # only keep datasets in datasets_to_use \n",
    "        .pipe(lambda x: x.groupby(['dataset_id', 'anomaly_fraction']).filter(lambda x: x.name in datasets_to_use.index).reset_index())\n",
    "        #drop unnecessary columns \n",
    "        .drop(columns = ['index', 'anomaly_fraction'])\n",
    "        # set the correct index\n",
    "        .set_index(['algo_name', 'dataset_id'])\n",
    "    )\n",
    "    return result_df"
   ]
  },
  {
   "cell_type": "code",
   "execution_count": 7,
   "metadata": {},
   "outputs": [],
   "source": [
    "def add_best_validation_set_performer(result_df): \n",
    "    best_validation_auc_per_dataset = result_df.groupby(['dataset_id']).validation_auc.max().to_frame('best_validation_auc')\n",
    "    result_df = result_df.join(best_validation_auc_per_dataset, on = 'dataset_id')\n",
    "    result_df['best_on_validation_set'] = result_df['best_validation_auc'] == result_df['validation_auc']\n",
    "    result_df = result_df.drop('best_validation_auc', axis = 1)\n",
    "    return result_df "
   ]
  },
  {
   "cell_type": "code",
   "execution_count": 8,
   "metadata": {},
   "outputs": [],
   "source": [
    "def test_auc_barplot_per_dataset(result_df, title = None): \n",
    "    chart = alt.Chart(result_df.reset_index()).mark_bar().encode(\n",
    "        x = alt.X('algo_name:N'), \n",
    "        y = alt.Y('test_auc:Q',  title = 'AUC on the test set'),\n",
    "        color = alt.Color('best_on_validation_set:N', title = 'Is best on the validation set')\n",
    "    ).facet(column = 'dataset_id').resolve_axis(x = 'independent').properties(title = title)\n",
    "    return chart \n",
    "\n",
    "def validation_and_test_auc_barplot_per_dataset(result_df, title = None): \n",
    "    result_df"
   ]
  },
  {
   "cell_type": "code",
   "execution_count": 9,
   "metadata": {},
   "outputs": [],
   "source": [
    "def get_data_and_plot_test_auc_barplot(path, datasets_to_use):\n",
    "    result_chart = (\n",
    "        read_validation_set_performance_df(path, datasets_to_use)\n",
    "        .pipe(add_best_validation_set_performer)\n",
    "        .pipe(test_auc_barplot_per_dataset, title = 'validation set 10% of dataset')\n",
    "    )\n",
    "    return result_chart"
   ]
  },
  {
   "cell_type": "code",
   "execution_count": 10,
   "metadata": {},
   "outputs": [],
   "source": [
    "def get_data_and_plot_difference_between_test_and_validation_performance(path, datasets_to_use): \n",
    "\n",
    "    result_df = (\n",
    "        read_validation_set_performance_df(path, datasets_to_use)\n",
    "        [['validation_auc', 'test_auc']]\n",
    "        .stack()\n",
    "        .reset_index()\n",
    "        .rename(columns = {'level_2':'score_type', 0:'value'})\n",
    "        .pipe(lambda x: x.merge(x.loc[x.score_type == 'validation_auc', ['algo_name', 'dataset_id', 'value']].rename(columns = {'value':'sort'}), on = ['algo_name', 'dataset_id']))\n",
    "        .assign(\n",
    "            score_type = lambda x: x.score_type.replace({'test_auc': 'AUC on Test', 'validation_auc': 'AUC on Validation'}), \n",
    "            algo_name = lambda x: x.algo_name.replace({'IF':'IForest'})\n",
    "        )\n",
    "    )\n",
    "    \n",
    "    idx = pd.IndexSlice\n",
    "    result2_df = result_df.pivot_table(index = ['algo_name', 'dataset_id'], columns = ['score_type'], values ='value').reset_index()\n",
    "    correlation_df = (\n",
    "        result_df.pivot_table(index = ['algo_name', 'dataset_id'], columns = ['score_type'], values ='value')\n",
    "        .groupby(['algo_name']).corr()\n",
    "        .loc[idx[:,'AUC on Test'], 'AUC on Validation']\n",
    "        .droplevel(level = 1)\n",
    "    )\n",
    "    new_algo_names = pd.Series(correlation_df.reset_index().apply(lambda x: f\"{x.iloc[0]} (corr={round(float(x.iloc[1]),2)})\", axis = 1).values, index = correlation_df.index)\n",
    "    \n",
    "#     result_df['algo_name'] = result_df.algo_name.replace(new_algo_names)\n",
    "    \n",
    "    chart = alt.Chart(result_df, height = 200, width = 430).mark_line().encode(\n",
    "        x = alt.X('dataset_id:N',sort = alt.EncodingSortField(field='sort'), title = None), \n",
    "        y = alt.Y('value:Q', scale = alt.Scale(zero = False), title = 'AUC'), \n",
    "        color = alt.Color('algo_name:N', title = 'Algorithm', legend = None), \n",
    "        strokeDash = alt.StrokeDash('score_type:N', title = 'Performance'),\n",
    "        facet = alt.Facet('algo_name', columns = 3, header = alt.Header(labelFontSize=30), title = None)\n",
    "    ).resolve_scale(x = 'independent').resolve_axis(y = 'shared')\n",
    "#     chart = alt.Chart(result2_df, height = 400, width = 400).mark_point().encode(\n",
    "#         x = alt.X('AUC on Test:Q', scale = alt.Scale(domain = [0.5, 1])), \n",
    "#         y = alt.Y('AUC on Validation:Q', scale = alt.Scale(domain = [0.5, 1])), \n",
    "#         color = alt.Color('algo_name:N', title = 'Algorithm', legend = None), \n",
    "# #         strokeDash = alt.StrokeDash('score_type:N', title = 'Performance'),\n",
    "#         facet = alt.Facet('algo_name', columns = 3, header = alt.Header(labelFontSize=30), title = None)\n",
    "#     ).resolve_scale(x = 'shared', y = 'shared').resolve_axis(y = 'shared')\n",
    "#     chart = alt.Chart(result_df, height = 200, width = 400).mark_point(size = 100, filled = True).encode(\n",
    "#         x = alt.X('dataset_id:N', title = None), \n",
    "#         y = alt.Y('value:Q', scale = alt.Scale(zero = False), title = 'AUC'), \n",
    "#         color = alt.Color('score_type:N', title = 'Performance'), \n",
    "#         shape = alt.Shape('score_type:N', scale=alt.Scale(range=['cross', 'square', 'circle', 'triangle-right', 'diamond'])),\n",
    "# #         strokeDash = alt.StrokeDash('score_type:N', title = 'Performance'),\n",
    "#         facet = alt.Facet('algo_name', columns = 3, header = alt.Header(labelFontSize=25), title = None)\n",
    "#     ).resolve_scale(x = 'independent').resolve_axis(y = 'shared')\n",
    "    return big_chart(chart)\n"
   ]
  },
  {
   "cell_type": "code",
   "execution_count": 23,
   "metadata": {},
   "outputs": [],
   "source": [
    "def get_validation_test_set_performance_df_single_run(path, datasets_to_use): \n",
    "    result_df = (\n",
    "    #         read_validation_set_performance_df(processed_path/'statistical_validation_set_multiple_10runs'/'size=0.05'/f'run0', datasets_to_use)\n",
    "            read_validation_set_performance_df(path, datasets_to_use)\n",
    "            [['validation_auc', 'test_auc']]\n",
    "            .stack()\n",
    "            .reset_index()\n",
    "            .rename(columns = {'level_2':'score_type', 0:'value'})\n",
    "            .pipe(lambda x: x.merge(x.loc[x.score_type == 'validation_auc', ['algo_name', 'dataset_id', 'value']].rename(columns = {'value':'sort'}), on = ['algo_name', 'dataset_id']))\n",
    "            .assign(\n",
    "                score_type = lambda x: x.score_type.replace({'test_auc': 'AUC on Test', 'validation_auc': 'AUC on Validation'}), \n",
    "                algo_name = lambda x: x.algo_name.replace({'IF':'IForest'})\n",
    "            )\n",
    "        )\n",
    "    return result_df \n",
    "def get_average_validation_test_set_performance_df_multiple_runs(path, datasets_to_use): \n",
    "    dfs = []\n",
    "    run_paths = path.glob('run*')\n",
    "    for run_path in run_paths: \n",
    "        df = get_validation_test_set_performance_df_single_run(run_path, datasets_to_use)\n",
    "        dfs.append(df)\n",
    "    return pd.concat(dfs, axis = 0).groupby(['algo_name', 'dataset_id', 'score_type']).mean().reset_index()\n",
    "        "
   ]
  },
  {
   "cell_type": "markdown",
   "metadata": {},
   "source": [
    "## RSME between validation and test set performance for size = 100"
   ]
  },
  {
   "cell_type": "code",
   "execution_count": 29,
   "metadata": {},
   "outputs": [
    {
     "data": {
      "text/html": [
       "<div>\n",
       "<style scoped>\n",
       "    .dataframe tbody tr th:only-of-type {\n",
       "        vertical-align: middle;\n",
       "    }\n",
       "\n",
       "    .dataframe tbody tr th {\n",
       "        vertical-align: top;\n",
       "    }\n",
       "\n",
       "    .dataframe thead th {\n",
       "        text-align: right;\n",
       "    }\n",
       "</style>\n",
       "<table border=\"1\" class=\"dataframe\">\n",
       "  <thead>\n",
       "    <tr style=\"text-align: right;\">\n",
       "      <th></th>\n",
       "      <th>RMSE</th>\n",
       "    </tr>\n",
       "    <tr>\n",
       "      <th>algo_name</th>\n",
       "      <th></th>\n",
       "    </tr>\n",
       "  </thead>\n",
       "  <tbody>\n",
       "    <tr>\n",
       "      <th>KNN</th>\n",
       "      <td>0.066734</td>\n",
       "    </tr>\n",
       "    <tr>\n",
       "      <th>HBOS</th>\n",
       "      <td>0.073751</td>\n",
       "    </tr>\n",
       "    <tr>\n",
       "      <th>IForest</th>\n",
       "      <td>0.108758</td>\n",
       "    </tr>\n",
       "    <tr>\n",
       "      <th>LOF</th>\n",
       "      <td>0.111395</td>\n",
       "    </tr>\n",
       "    <tr>\n",
       "      <th>CBLOF</th>\n",
       "      <td>0.142509</td>\n",
       "    </tr>\n",
       "    <tr>\n",
       "      <th>OCSVM</th>\n",
       "      <td>0.195313</td>\n",
       "    </tr>\n",
       "  </tbody>\n",
       "</table>\n",
       "</div>"
      ],
      "text/plain": [
       "               RMSE\n",
       "algo_name          \n",
       "KNN        0.066734\n",
       "HBOS       0.073751\n",
       "IForest    0.108758\n",
       "LOF        0.111395\n",
       "CBLOF      0.142509\n",
       "OCSVM      0.195313"
      ]
     },
     "execution_count": 29,
     "metadata": {},
     "output_type": "execute_result"
    }
   ],
   "source": [
    "result_df = get_average_validation_test_set_performance_df_multiple_runs(processed_path/'absolute_validation_set_multiple_10runs_max_25'/'size=100', datasets_to_use)\n",
    "\n",
    "from sklearn.metrics import mean_squared_error\n",
    "average_error_df = (\n",
    "        result_df.pivot_table(index = ['algo_name', 'dataset_id'], columns = ['score_type'], values ='value')\n",
    "        .groupby(['algo_name']).apply(lambda x: mean_squared_error(x['AUC on Validation'], x['AUC on Test'], squared = False))\n",
    "        .sort_values()\n",
    ")\n",
    "average_error_df.to_frame('RMSE')"
   ]
  },
  {
   "cell_type": "markdown",
   "metadata": {},
   "source": [
    "## MAE between validation and test set performance for statistical size = 0.05"
   ]
  },
  {
   "cell_type": "code",
   "execution_count": 34,
   "metadata": {},
   "outputs": [
    {
     "data": {
      "text/html": [
       "<div>\n",
       "<style scoped>\n",
       "    .dataframe tbody tr th:only-of-type {\n",
       "        vertical-align: middle;\n",
       "    }\n",
       "\n",
       "    .dataframe tbody tr th {\n",
       "        vertical-align: top;\n",
       "    }\n",
       "\n",
       "    .dataframe thead th {\n",
       "        text-align: right;\n",
       "    }\n",
       "</style>\n",
       "<table border=\"1\" class=\"dataframe\">\n",
       "  <thead>\n",
       "    <tr style=\"text-align: right;\">\n",
       "      <th></th>\n",
       "      <th>MAE</th>\n",
       "    </tr>\n",
       "    <tr>\n",
       "      <th>algo_name</th>\n",
       "      <th></th>\n",
       "    </tr>\n",
       "  </thead>\n",
       "  <tbody>\n",
       "    <tr>\n",
       "      <th>HBOS</th>\n",
       "      <td>0.032749</td>\n",
       "    </tr>\n",
       "    <tr>\n",
       "      <th>KNN</th>\n",
       "      <td>0.040848</td>\n",
       "    </tr>\n",
       "    <tr>\n",
       "      <th>IForest</th>\n",
       "      <td>0.061095</td>\n",
       "    </tr>\n",
       "    <tr>\n",
       "      <th>LOF</th>\n",
       "      <td>0.079238</td>\n",
       "    </tr>\n",
       "    <tr>\n",
       "      <th>CBLOF</th>\n",
       "      <td>0.108719</td>\n",
       "    </tr>\n",
       "    <tr>\n",
       "      <th>OCSVM</th>\n",
       "      <td>0.164332</td>\n",
       "    </tr>\n",
       "  </tbody>\n",
       "</table>\n",
       "</div>"
      ],
      "text/plain": [
       "                MAE\n",
       "algo_name          \n",
       "HBOS       0.032749\n",
       "KNN        0.040848\n",
       "IForest    0.061095\n",
       "LOF        0.079238\n",
       "CBLOF      0.108719\n",
       "OCSVM      0.164332"
      ]
     },
     "execution_count": 34,
     "metadata": {},
     "output_type": "execute_result"
    }
   ],
   "source": [
    "result_df = get_average_validation_test_set_performance_df_multiple_runs(processed_path/'statistical_validation_set_multiple_10runs'/'size=0.05', datasets_to_use)\n",
    "\n",
    "from sklearn.metrics import mean_squared_error, mean_absolute_error\n",
    "average_error_df = (\n",
    "        result_df.pivot_table(index = ['algo_name', 'dataset_id'], columns = ['score_type'], values ='value')\n",
    "        .groupby(['algo_name']).apply(lambda x: mean_absolute_error(x['AUC on Validation'], x['AUC on Test']))\n",
    "        .sort_values()\n",
    ")\n",
    "average_error_df.to_frame('MAE')"
   ]
  },
  {
   "cell_type": "markdown",
   "metadata": {},
   "source": [
    "## The plot of the paper"
   ]
  },
  {
   "cell_type": "code",
   "execution_count": 49,
   "metadata": {},
   "outputs": [
    {
     "data": {
      "text/html": [
       "\n",
       "<div id=\"altair-viz-bf66218e449e4788845a69234afe172b\"></div>\n",
       "<script type=\"text/javascript\">\n",
       "  (function(spec, embedOpt){\n",
       "    let outputDiv = document.currentScript.previousElementSibling;\n",
       "    if (outputDiv.id !== \"altair-viz-bf66218e449e4788845a69234afe172b\") {\n",
       "      outputDiv = document.getElementById(\"altair-viz-bf66218e449e4788845a69234afe172b\");\n",
       "    }\n",
       "    const paths = {\n",
       "      \"vega\": \"https://cdn.jsdelivr.net/npm//vega@5?noext\",\n",
       "      \"vega-lib\": \"https://cdn.jsdelivr.net/npm//vega-lib?noext\",\n",
       "      \"vega-lite\": \"https://cdn.jsdelivr.net/npm//vega-lite@4.8.1?noext\",\n",
       "      \"vega-embed\": \"https://cdn.jsdelivr.net/npm//vega-embed@6?noext\",\n",
       "    };\n",
       "\n",
       "    function loadScript(lib) {\n",
       "      return new Promise(function(resolve, reject) {\n",
       "        var s = document.createElement('script');\n",
       "        s.src = paths[lib];\n",
       "        s.async = true;\n",
       "        s.onload = () => resolve(paths[lib]);\n",
       "        s.onerror = () => reject(`Error loading script: ${paths[lib]}`);\n",
       "        document.getElementsByTagName(\"head\")[0].appendChild(s);\n",
       "      });\n",
       "    }\n",
       "\n",
       "    function showError(err) {\n",
       "      outputDiv.innerHTML = `<div class=\"error\" style=\"color:red;\">${err}</div>`;\n",
       "      throw err;\n",
       "    }\n",
       "\n",
       "    function displayChart(vegaEmbed) {\n",
       "      vegaEmbed(outputDiv, spec, embedOpt)\n",
       "        .catch(err => showError(`Javascript Error: ${err.message}<br>This usually means there's a typo in your chart specification. See the javascript console for the full traceback.`));\n",
       "    }\n",
       "\n",
       "    if(typeof define === \"function\" && define.amd) {\n",
       "      requirejs.config({paths});\n",
       "      require([\"vega-embed\"], displayChart, err => showError(`Error loading script: ${err.message}`));\n",
       "    } else if (typeof vegaEmbed === \"function\") {\n",
       "      displayChart(vegaEmbed);\n",
       "    } else {\n",
       "      loadScript(\"vega\")\n",
       "        .then(() => loadScript(\"vega-lite\"))\n",
       "        .then(() => loadScript(\"vega-embed\"))\n",
       "        .catch(showError)\n",
       "        .then(() => displayChart(vegaEmbed));\n",
       "    }\n",
       "  })({\"config\": {\"view\": {\"continuousWidth\": 400, \"continuousHeight\": 300}, \"axis\": {\"labelFontSize\": 25, \"labelLimit\": 0, \"titleFontSize\": 25}, \"legend\": {\"cornerRadius\": 0, \"labelFontSize\": 25, \"labelLimit\": 0, \"orient\": \"right\", \"padding\": 10, \"strokeColor\": \"black\", \"strokeWidth\": 3, \"symbolSize\": 300, \"symbolStrokeWidth\": 4, \"titleFontSize\": 25, \"titleLimit\": 0}, \"title\": {\"fontSize\": 25, \"subtitleFontSize\": 25}}, \"data\": {\"name\": \"data-5d1a73924720c62ca088e793fba4ba18\"}, \"mark\": \"line\", \"encoding\": {\"color\": {\"type\": \"nominal\", \"field\": \"algo_name\", \"legend\": null, \"title\": \"Algorithm\"}, \"facet\": {\"type\": \"nominal\", \"columns\": 3, \"field\": \"algo_name\", \"header\": {\"labelFontSize\": 30}, \"title\": null}, \"strokeDash\": {\"type\": \"nominal\", \"field\": \"score_type\", \"title\": \"Performance\"}, \"x\": {\"type\": \"nominal\", \"field\": \"dataset_id\", \"sort\": {\"field\": \"sort\"}, \"title\": null}, \"y\": {\"type\": \"quantitative\", \"field\": \"value\", \"scale\": {\"zero\": false}, \"title\": \"AUC\"}}, \"height\": 200, \"resolve\": {\"axis\": {\"y\": \"shared\"}, \"scale\": {\"x\": \"independent\"}}, \"width\": 430, \"$schema\": \"https://vega.github.io/schema/vega-lite/v4.8.1.json\", \"datasets\": {\"data-5d1a73924720c62ca088e793fba4ba18\": [{\"algo_name\": \"CBLOF\", \"dataset_id\": \"ALOI\", \"score_type\": \"AUC on Validation\", \"value\": 0.563682504527575, \"sort\": 0.563682504527575}, {\"algo_name\": \"CBLOF\", \"dataset_id\": \"ALOI\", \"score_type\": \"AUC on Test\", \"value\": 0.5575086560897906, \"sort\": 0.563682504527575}, {\"algo_name\": \"CBLOF\", \"dataset_id\": \"Annthyroid\", \"score_type\": \"AUC on Validation\", \"value\": 0.6726005770591759, \"sort\": 0.6726005770591759}, {\"algo_name\": \"CBLOF\", \"dataset_id\": \"Annthyroid\", \"score_type\": \"AUC on Test\", \"value\": 0.6508824363821097, \"sort\": 0.6726005770591759}, {\"algo_name\": \"CBLOF\", \"dataset_id\": \"Arrhythmia\", \"score_type\": \"AUC on Validation\", \"value\": 1.0, \"sort\": 1.0}, {\"algo_name\": \"CBLOF\", \"dataset_id\": \"Arrhythmia\", \"score_type\": \"AUC on Test\", \"value\": 0.7650462962962963, \"sort\": 1.0}, {\"algo_name\": \"CBLOF\", \"dataset_id\": \"Cardiotocography\", \"score_type\": \"AUC on Validation\", \"value\": 0.9681159420289857, \"sort\": 0.9681159420289857}, {\"algo_name\": \"CBLOF\", \"dataset_id\": \"Cardiotocography\", \"score_type\": \"AUC on Test\", \"value\": 0.7907153729071538, \"sort\": 0.9681159420289857}, {\"algo_name\": \"CBLOF\", \"dataset_id\": \"InternetAds\", \"score_type\": \"AUC on Validation\", \"value\": 0.7746031746031745, \"sort\": 0.7746031746031745}, {\"algo_name\": \"CBLOF\", \"dataset_id\": \"InternetAds\", \"score_type\": \"AUC on Test\", \"value\": 0.7479135367490204, \"sort\": 0.7746031746031745}, {\"algo_name\": \"CBLOF\", \"dataset_id\": \"Ionosphere\", \"score_type\": \"AUC on Validation\", \"value\": 1.0, \"sort\": 1.0}, {\"algo_name\": \"CBLOF\", \"dataset_id\": \"Ionosphere\", \"score_type\": \"AUC on Test\", \"value\": 0.9527410207939508, \"sort\": 1.0}, {\"algo_name\": \"CBLOF\", \"dataset_id\": \"KDDCup99\", \"score_type\": \"AUC on Validation\", \"value\": 0.998046875, \"sort\": 0.998046875}, {\"algo_name\": \"CBLOF\", \"dataset_id\": \"KDDCup99\", \"score_type\": \"AUC on Test\", \"value\": 0.9862786328992762, \"sort\": 0.998046875}, {\"algo_name\": \"CBLOF\", \"dataset_id\": \"Lymphography\", \"score_type\": \"AUC on Validation\", \"value\": 1.0, \"sort\": 1.0}, {\"algo_name\": \"CBLOF\", \"dataset_id\": \"Lymphography\", \"score_type\": \"AUC on Test\", \"value\": 0.98109243697479, \"sort\": 1.0}, {\"algo_name\": \"CBLOF\", \"dataset_id\": \"PageBlocks\", \"score_type\": \"AUC on Validation\", \"value\": 0.888888888888889, \"sort\": 0.888888888888889}, {\"algo_name\": \"CBLOF\", \"dataset_id\": \"PageBlocks\", \"score_type\": \"AUC on Test\", \"value\": 0.9105180699333152, \"sort\": 0.888888888888889}, {\"algo_name\": \"CBLOF\", \"dataset_id\": \"Pima\", \"score_type\": \"AUC on Validation\", \"value\": 0.9013605442176872, \"sort\": 0.9013605442176872}, {\"algo_name\": \"CBLOF\", \"dataset_id\": \"Pima\", \"score_type\": \"AUC on Test\", \"value\": 0.7526584913344495, \"sort\": 0.9013605442176872}, {\"algo_name\": \"CBLOF\", \"dataset_id\": \"Shuttle\", \"score_type\": \"AUC on Validation\", \"value\": 0.9733333333333332, \"sort\": 0.9733333333333332}, {\"algo_name\": \"CBLOF\", \"dataset_id\": \"Shuttle\", \"score_type\": \"AUC on Test\", \"value\": 0.748730964467005, \"sort\": 0.9733333333333332}, {\"algo_name\": \"CBLOF\", \"dataset_id\": \"SpamBase\", \"score_type\": \"AUC on Validation\", \"value\": 0.8195364238410595, \"sort\": 0.8195364238410595}, {\"algo_name\": \"CBLOF\", \"dataset_id\": \"SpamBase\", \"score_type\": \"AUC on Test\", \"value\": 0.7857213186655806, \"sort\": 0.8195364238410595}, {\"algo_name\": \"CBLOF\", \"dataset_id\": \"Stamps\", \"score_type\": \"AUC on Validation\", \"value\": 0.9310344827586208, \"sort\": 0.9310344827586208}, {\"algo_name\": \"CBLOF\", \"dataset_id\": \"Stamps\", \"score_type\": \"AUC on Test\", \"value\": 0.8241071428571428, \"sort\": 0.9310344827586208}, {\"algo_name\": \"CBLOF\", \"dataset_id\": \"WBC\", \"score_type\": \"AUC on Validation\", \"value\": 1.0, \"sort\": 1.0}, {\"algo_name\": \"CBLOF\", \"dataset_id\": \"WBC\", \"score_type\": \"AUC on Test\", \"value\": 0.9090909090909092, \"sort\": 1.0}, {\"algo_name\": \"CBLOF\", \"dataset_id\": \"WDBC\", \"score_type\": \"AUC on Validation\", \"value\": 1.0, \"sort\": 1.0}, {\"algo_name\": \"CBLOF\", \"dataset_id\": \"WDBC\", \"score_type\": \"AUC on Test\", \"value\": 0.922077922077922, \"sort\": 1.0}, {\"algo_name\": \"CBLOF\", \"dataset_id\": \"Waveform\", \"score_type\": \"AUC on Validation\", \"value\": 0.8805970149253731, \"sort\": 0.8805970149253731}, {\"algo_name\": \"CBLOF\", \"dataset_id\": \"Waveform\", \"score_type\": \"AUC on Test\", \"value\": 0.8238913643114789, \"sort\": 0.8805970149253731}, {\"algo_name\": \"HBOS\", \"dataset_id\": \"ALOI\", \"score_type\": \"AUC on Validation\", \"value\": 0.535677290606868, \"sort\": 0.535677290606868}, {\"algo_name\": \"HBOS\", \"dataset_id\": \"ALOI\", \"score_type\": \"AUC on Test\", \"value\": 0.5209138409627553, \"sort\": 0.535677290606868}, {\"algo_name\": \"HBOS\", \"dataset_id\": \"Annthyroid\", \"score_type\": \"AUC on Validation\", \"value\": 0.8286787522456311, \"sort\": 0.8286787522456311}, {\"algo_name\": \"HBOS\", \"dataset_id\": \"Annthyroid\", \"score_type\": \"AUC on Test\", \"value\": 0.835999445796964, \"sort\": 0.8286787522456311}, {\"algo_name\": \"HBOS\", \"dataset_id\": \"Arrhythmia\", \"score_type\": \"AUC on Validation\", \"value\": 0.9743589743589745, \"sort\": 0.9743589743589745}, {\"algo_name\": \"HBOS\", \"dataset_id\": \"Arrhythmia\", \"score_type\": \"AUC on Test\", \"value\": 0.7957175925925926, \"sort\": 0.9743589743589745}, {\"algo_name\": \"HBOS\", \"dataset_id\": \"Cardiotocography\", \"score_type\": \"AUC on Validation\", \"value\": 0.8782608695652174, \"sort\": 0.8782608695652174}, {\"algo_name\": \"HBOS\", \"dataset_id\": \"Cardiotocography\", \"score_type\": \"AUC on Test\", \"value\": 0.7924766253533377, \"sort\": 0.8782608695652174}, {\"algo_name\": \"HBOS\", \"dataset_id\": \"InternetAds\", \"score_type\": \"AUC on Validation\", \"value\": 0.638095238095238, \"sort\": 0.638095238095238}, {\"algo_name\": \"HBOS\", \"dataset_id\": \"InternetAds\", \"score_type\": \"AUC on Test\", \"value\": 0.684798357561792, \"sort\": 0.638095238095238}, {\"algo_name\": \"HBOS\", \"dataset_id\": \"Ionosphere\", \"score_type\": \"AUC on Validation\", \"value\": 0.75, \"sort\": 0.75}, {\"algo_name\": \"HBOS\", \"dataset_id\": \"Ionosphere\", \"score_type\": \"AUC on Test\", \"value\": 0.7576139466498635, \"sort\": 0.75}, {\"algo_name\": \"HBOS\", \"dataset_id\": \"KDDCup99\", \"score_type\": \"AUC on Validation\", \"value\": 0.990234375, \"sort\": 0.990234375}, {\"algo_name\": \"HBOS\", \"dataset_id\": \"KDDCup99\", \"score_type\": \"AUC on Test\", \"value\": 0.9800023018018276, \"sort\": 0.990234375}, {\"algo_name\": \"HBOS\", \"dataset_id\": \"Lymphography\", \"score_type\": \"AUC on Validation\", \"value\": 1.0, \"sort\": 1.0}, {\"algo_name\": \"HBOS\", \"dataset_id\": \"Lymphography\", \"score_type\": \"AUC on Test\", \"value\": 0.9894957983193275, \"sort\": 1.0}, {\"algo_name\": \"HBOS\", \"dataset_id\": \"PageBlocks\", \"score_type\": \"AUC on Validation\", \"value\": 0.7619047619047619, \"sort\": 0.7619047619047619}, {\"algo_name\": \"HBOS\", \"dataset_id\": \"PageBlocks\", \"score_type\": \"AUC on Test\", \"value\": 0.6790107154708617, \"sort\": 0.7619047619047619}, {\"algo_name\": \"HBOS\", \"dataset_id\": \"Pima\", \"score_type\": \"AUC on Validation\", \"value\": 0.9489795918367347, \"sort\": 0.9489795918367347}, {\"algo_name\": \"HBOS\", \"dataset_id\": \"Pima\", \"score_type\": \"AUC on Test\", \"value\": 0.6548260102267071, \"sort\": 0.9489795918367347}, {\"algo_name\": \"HBOS\", \"dataset_id\": \"Shuttle\", \"score_type\": \"AUC on Validation\", \"value\": 0.72, \"sort\": 0.72}, {\"algo_name\": \"HBOS\", \"dataset_id\": \"Shuttle\", \"score_type\": \"AUC on Test\", \"value\": 0.817258883248731, \"sort\": 0.72}, {\"algo_name\": \"HBOS\", \"dataset_id\": \"SpamBase\", \"score_type\": \"AUC on Validation\", \"value\": 0.9586092715231788, \"sort\": 0.9586092715231788}, {\"algo_name\": \"HBOS\", \"dataset_id\": \"SpamBase\", \"score_type\": \"AUC on Test\", \"value\": 0.8004457612402546, \"sort\": 0.9586092715231788}, {\"algo_name\": \"HBOS\", \"dataset_id\": \"Stamps\", \"score_type\": \"AUC on Validation\", \"value\": 0.9080459770114944, \"sort\": 0.9080459770114944}, {\"algo_name\": \"HBOS\", \"dataset_id\": \"Stamps\", \"score_type\": \"AUC on Test\", \"value\": 0.8910714285714285, \"sort\": 0.9080459770114944}, {\"algo_name\": \"HBOS\", \"dataset_id\": \"WBC\", \"score_type\": \"AUC on Validation\", \"value\": 0.98, \"sort\": 0.98}, {\"algo_name\": \"HBOS\", \"dataset_id\": \"WBC\", \"score_type\": \"AUC on Test\", \"value\": 0.9886363636363636, \"sort\": 0.98}, {\"algo_name\": \"HBOS\", \"dataset_id\": \"WDBC\", \"score_type\": \"AUC on Validation\", \"value\": 1.0, \"sort\": 1.0}, {\"algo_name\": \"HBOS\", \"dataset_id\": \"WDBC\", \"score_type\": \"AUC on Test\", \"value\": 0.9691558441558442, \"sort\": 1.0}, {\"algo_name\": \"HBOS\", \"dataset_id\": \"Waveform\", \"score_type\": \"AUC on Validation\", \"value\": 0.7867803837953091, \"sort\": 0.7867803837953091}, {\"algo_name\": \"HBOS\", \"dataset_id\": \"Waveform\", \"score_type\": \"AUC on Test\", \"value\": 0.689890009103167, \"sort\": 0.7867803837953091}, {\"algo_name\": \"IForest\", \"dataset_id\": \"ALOI\", \"score_type\": \"AUC on Validation\", \"value\": 0.5715068461547335, \"sort\": 0.5715068461547335}, {\"algo_name\": \"IForest\", \"dataset_id\": \"ALOI\", \"score_type\": \"AUC on Test\", \"value\": 0.5367726529189143, \"sort\": 0.5715068461547335}, {\"algo_name\": \"IForest\", \"dataset_id\": \"Annthyroid\", \"score_type\": \"AUC on Validation\", \"value\": 0.8331427949262344, \"sort\": 0.8331427949262344}, {\"algo_name\": \"IForest\", \"dataset_id\": \"Annthyroid\", \"score_type\": \"AUC on Test\", \"value\": 0.8247672677130548, \"sort\": 0.8331427949262344}, {\"algo_name\": \"IForest\", \"dataset_id\": \"Arrhythmia\", \"score_type\": \"AUC on Validation\", \"value\": 1.0, \"sort\": 1.0}, {\"algo_name\": \"IForest\", \"dataset_id\": \"Arrhythmia\", \"score_type\": \"AUC on Test\", \"value\": 0.7731481481481481, \"sort\": 1.0}, {\"algo_name\": \"IForest\", \"dataset_id\": \"Cardiotocography\", \"score_type\": \"AUC on Validation\", \"value\": 0.9681159420289857, \"sort\": 0.9681159420289857}, {\"algo_name\": \"IForest\", \"dataset_id\": \"Cardiotocography\", \"score_type\": \"AUC on Test\", \"value\": 0.8337899543378996, \"sort\": 0.9681159420289857}, {\"algo_name\": \"IForest\", \"dataset_id\": \"InternetAds\", \"score_type\": \"AUC on Validation\", \"value\": 0.7428571428571428, \"sort\": 0.7428571428571428}, {\"algo_name\": \"IForest\", \"dataset_id\": \"InternetAds\", \"score_type\": \"AUC on Test\", \"value\": 0.6826250140345062, \"sort\": 0.7428571428571428}, {\"algo_name\": \"IForest\", \"dataset_id\": \"Ionosphere\", \"score_type\": \"AUC on Validation\", \"value\": 1.0, \"sort\": 1.0}, {\"algo_name\": \"IForest\", \"dataset_id\": \"Ionosphere\", \"score_type\": \"AUC on Test\", \"value\": 0.8943499264860324, \"sort\": 1.0}, {\"algo_name\": \"IForest\", \"dataset_id\": \"KDDCup99\", \"score_type\": \"AUC on Validation\", \"value\": 0.998046875, \"sort\": 0.998046875}, {\"algo_name\": \"IForest\", \"dataset_id\": \"KDDCup99\", \"score_type\": \"AUC on Test\", \"value\": 0.9897462782768196, \"sort\": 0.998046875}, {\"algo_name\": \"IForest\", \"dataset_id\": \"Lymphography\", \"score_type\": \"AUC on Validation\", \"value\": 1.0, \"sort\": 1.0}, {\"algo_name\": \"IForest\", \"dataset_id\": \"Lymphography\", \"score_type\": \"AUC on Test\", \"value\": 0.934873949579832, \"sort\": 1.0}, {\"algo_name\": \"IForest\", \"dataset_id\": \"PageBlocks\", \"score_type\": \"AUC on Validation\", \"value\": 1.0, \"sort\": 1.0}, {\"algo_name\": \"IForest\", \"dataset_id\": \"PageBlocks\", \"score_type\": \"AUC on Test\", \"value\": 0.934478794207301, \"sort\": 1.0}, {\"algo_name\": \"IForest\", \"dataset_id\": \"Pima\", \"score_type\": \"AUC on Validation\", \"value\": 0.935374149659864, \"sort\": 0.935374149659864}, {\"algo_name\": \"IForest\", \"dataset_id\": \"Pima\", \"score_type\": \"AUC on Test\", \"value\": 0.7391284673514639, \"sort\": 0.935374149659864}, {\"algo_name\": \"IForest\", \"dataset_id\": \"Shuttle\", \"score_type\": \"AUC on Validation\", \"value\": 0.8733333333333334, \"sort\": 0.8733333333333334}, {\"algo_name\": \"IForest\", \"dataset_id\": \"Shuttle\", \"score_type\": \"AUC on Test\", \"value\": 0.8979695431472081, \"sort\": 0.8733333333333334}, {\"algo_name\": \"IForest\", \"dataset_id\": \"SpamBase\", \"score_type\": \"AUC on Validation\", \"value\": 0.97682119205298, \"sort\": 0.97682119205298}, {\"algo_name\": \"IForest\", \"dataset_id\": \"SpamBase\", \"score_type\": \"AUC on Test\", \"value\": 0.8534895586247639, \"sort\": 0.97682119205298}, {\"algo_name\": \"IForest\", \"dataset_id\": \"Stamps\", \"score_type\": \"AUC on Validation\", \"value\": 0.9540229885057472, \"sort\": 0.9540229885057472}, {\"algo_name\": \"IForest\", \"dataset_id\": \"Stamps\", \"score_type\": \"AUC on Test\", \"value\": 0.9269132653061224, \"sort\": 0.9540229885057472}, {\"algo_name\": \"IForest\", \"dataset_id\": \"WBC\", \"score_type\": \"AUC on Validation\", \"value\": 1.0, \"sort\": 1.0}, {\"algo_name\": \"IForest\", \"dataset_id\": \"WBC\", \"score_type\": \"AUC on Test\", \"value\": 0.9863636363636364, \"sort\": 1.0}, {\"algo_name\": \"IForest\", \"dataset_id\": \"WDBC\", \"score_type\": \"AUC on Validation\", \"value\": 1.0, \"sort\": 1.0}, {\"algo_name\": \"IForest\", \"dataset_id\": \"WDBC\", \"score_type\": \"AUC on Test\", \"value\": 0.9334415584415584, \"sort\": 1.0}, {\"algo_name\": \"IForest\", \"dataset_id\": \"Waveform\", \"score_type\": \"AUC on Validation\", \"value\": 0.8777540867093105, \"sort\": 0.8777540867093105}, {\"algo_name\": \"IForest\", \"dataset_id\": \"Waveform\", \"score_type\": \"AUC on Test\", \"value\": 0.6962485369910268, \"sort\": 0.8777540867093105}, {\"algo_name\": \"KNN\", \"dataset_id\": \"ALOI\", \"score_type\": \"AUC on Validation\", \"value\": 0.7476283581917386, \"sort\": 0.7476283581917386}, {\"algo_name\": \"KNN\", \"dataset_id\": \"ALOI\", \"score_type\": \"AUC on Test\", \"value\": 0.7430968367208309, \"sort\": 0.7476283581917386}, {\"algo_name\": \"KNN\", \"dataset_id\": \"Annthyroid\", \"score_type\": \"AUC on Validation\", \"value\": 0.6665305678044532, \"sort\": 0.6665305678044532}, {\"algo_name\": \"KNN\", \"dataset_id\": \"Annthyroid\", \"score_type\": \"AUC on Test\", \"value\": 0.6591857503843134, \"sort\": 0.6665305678044532}, {\"algo_name\": \"KNN\", \"dataset_id\": \"Arrhythmia\", \"score_type\": \"AUC on Validation\", \"value\": 0.9743589743589745, \"sort\": 0.9743589743589745}, {\"algo_name\": \"KNN\", \"dataset_id\": \"Arrhythmia\", \"score_type\": \"AUC on Test\", \"value\": 0.7783564814814815, \"sort\": 0.9743589743589745}, {\"algo_name\": \"KNN\", \"dataset_id\": \"Cardiotocography\", \"score_type\": \"AUC on Validation\", \"value\": 0.9159420289855073, \"sort\": 0.9159420289855073}, {\"algo_name\": \"KNN\", \"dataset_id\": \"Cardiotocography\", \"score_type\": \"AUC on Test\", \"value\": 0.8033920417482061, \"sort\": 0.9159420289855073}, {\"algo_name\": \"KNN\", \"dataset_id\": \"InternetAds\", \"score_type\": \"AUC on Validation\", \"value\": 0.6492063492063491, \"sort\": 0.6492063492063491}, {\"algo_name\": \"KNN\", \"dataset_id\": \"InternetAds\", \"score_type\": \"AUC on Test\", \"value\": 0.7229125120072997, \"sort\": 0.6492063492063491}, {\"algo_name\": \"KNN\", \"dataset_id\": \"Ionosphere\", \"score_type\": \"AUC on Validation\", \"value\": 1.0, \"sort\": 1.0}, {\"algo_name\": \"KNN\", \"dataset_id\": \"Ionosphere\", \"score_type\": \"AUC on Test\", \"value\": 0.9610375971434572, \"sort\": 1.0}, {\"algo_name\": \"KNN\", \"dataset_id\": \"KDDCup99\", \"score_type\": \"AUC on Validation\", \"value\": 1.0, \"sort\": 1.0}, {\"algo_name\": \"KNN\", \"dataset_id\": \"KDDCup99\", \"score_type\": \"AUC on Test\", \"value\": 0.8764407721591346, \"sort\": 1.0}, {\"algo_name\": \"KNN\", \"dataset_id\": \"Lymphography\", \"score_type\": \"AUC on Validation\", \"value\": 1.0, \"sort\": 1.0}, {\"algo_name\": \"KNN\", \"dataset_id\": \"Lymphography\", \"score_type\": \"AUC on Test\", \"value\": 0.9957983193277312, \"sort\": 1.0}, {\"algo_name\": \"KNN\", \"dataset_id\": \"PageBlocks\", \"score_type\": \"AUC on Validation\", \"value\": 0.7777777777777778, \"sort\": 0.7777777777777778}, {\"algo_name\": \"KNN\", \"dataset_id\": \"PageBlocks\", \"score_type\": \"AUC on Test\", \"value\": 0.795585172456039, \"sort\": 0.7777777777777778}, {\"algo_name\": \"KNN\", \"dataset_id\": \"Pima\", \"score_type\": \"AUC on Validation\", \"value\": 0.8605442176870748, \"sort\": 0.8605442176870748}, {\"algo_name\": \"KNN\", \"dataset_id\": \"Pima\", \"score_type\": \"AUC on Test\", \"value\": 0.749943436354586, \"sort\": 0.8605442176870748}, {\"algo_name\": \"KNN\", \"dataset_id\": \"Shuttle\", \"score_type\": \"AUC on Validation\", \"value\": 0.9466666666666668, \"sort\": 0.9466666666666668}, {\"algo_name\": \"KNN\", \"dataset_id\": \"Shuttle\", \"score_type\": \"AUC on Test\", \"value\": 0.9416243654822336, \"sort\": 0.9466666666666668}, {\"algo_name\": \"KNN\", \"dataset_id\": \"SpamBase\", \"score_type\": \"AUC on Validation\", \"value\": 0.8162251655629139, \"sort\": 0.8162251655629139}, {\"algo_name\": \"KNN\", \"dataset_id\": \"SpamBase\", \"score_type\": \"AUC on Test\", \"value\": 0.8117509107671926, \"sort\": 0.8162251655629139}, {\"algo_name\": \"KNN\", \"dataset_id\": \"Stamps\", \"score_type\": \"AUC on Validation\", \"value\": 0.896551724137931, \"sort\": 0.896551724137931}, {\"algo_name\": \"KNN\", \"dataset_id\": \"Stamps\", \"score_type\": \"AUC on Test\", \"value\": 0.9003826530612244, \"sort\": 0.896551724137931}, {\"algo_name\": \"KNN\", \"dataset_id\": \"WBC\", \"score_type\": \"AUC on Validation\", \"value\": 0.98, \"sort\": 0.98}, {\"algo_name\": \"KNN\", \"dataset_id\": \"WBC\", \"score_type\": \"AUC on Test\", \"value\": 0.9946969696969696, \"sort\": 0.98}, {\"algo_name\": \"KNN\", \"dataset_id\": \"WDBC\", \"score_type\": \"AUC on Validation\", \"value\": 1.0, \"sort\": 1.0}, {\"algo_name\": \"KNN\", \"dataset_id\": \"WDBC\", \"score_type\": \"AUC on Test\", \"value\": 0.8863636363636364, \"sort\": 1.0}, {\"algo_name\": \"KNN\", \"dataset_id\": \"Waveform\", \"score_type\": \"AUC on Validation\", \"value\": 0.7199715707178393, \"sort\": 0.7199715707178393}, {\"algo_name\": \"KNN\", \"dataset_id\": \"Waveform\", \"score_type\": \"AUC on Test\", \"value\": 0.7474213397397726, \"sort\": 0.7199715707178393}, {\"algo_name\": \"LOF\", \"dataset_id\": \"ALOI\", \"score_type\": \"AUC on Validation\", \"value\": 0.7872339689241098, \"sort\": 0.7872339689241098}, {\"algo_name\": \"LOF\", \"dataset_id\": \"ALOI\", \"score_type\": \"AUC on Test\", \"value\": 0.7721680278237153, \"sort\": 0.7872339689241098}, {\"algo_name\": \"LOF\", \"dataset_id\": \"Annthyroid\", \"score_type\": \"AUC on Validation\", \"value\": 0.710436060754532, \"sort\": 0.710436060754532}, {\"algo_name\": \"LOF\", \"dataset_id\": \"Annthyroid\", \"score_type\": \"AUC on Test\", \"value\": 0.6137709558023079, \"sort\": 0.710436060754532}, {\"algo_name\": \"LOF\", \"dataset_id\": \"Arrhythmia\", \"score_type\": \"AUC on Validation\", \"value\": 0.9615384615384616, \"sort\": 0.9615384615384616}, {\"algo_name\": \"LOF\", \"dataset_id\": \"Arrhythmia\", \"score_type\": \"AUC on Test\", \"value\": 0.7754629629629629, \"sort\": 0.9615384615384616}, {\"algo_name\": \"LOF\", \"dataset_id\": \"Cardiotocography\", \"score_type\": \"AUC on Validation\", \"value\": 0.9333333333333332, \"sort\": 0.9333333333333332}, {\"algo_name\": \"LOF\", \"dataset_id\": \"Cardiotocography\", \"score_type\": \"AUC on Test\", \"value\": 0.8472494020439226, \"sort\": 0.9333333333333332}, {\"algo_name\": \"LOF\", \"dataset_id\": \"InternetAds\", \"score_type\": \"AUC on Validation\", \"value\": 0.6666666666666667, \"sort\": 0.6666666666666667}, {\"algo_name\": \"LOF\", \"dataset_id\": \"InternetAds\", \"score_type\": \"AUC on Test\", \"value\": 0.725289021719178, \"sort\": 0.6666666666666667}, {\"algo_name\": \"LOF\", \"dataset_id\": \"Ionosphere\", \"score_type\": \"AUC on Validation\", \"value\": 1.0, \"sort\": 1.0}, {\"algo_name\": \"LOF\", \"dataset_id\": \"Ionosphere\", \"score_type\": \"AUC on Test\", \"value\": 0.8831127914303718, \"sort\": 1.0}, {\"algo_name\": \"LOF\", \"dataset_id\": \"KDDCup99\", \"score_type\": \"AUC on Validation\", \"value\": 0.986328125, \"sort\": 0.986328125}, {\"algo_name\": \"LOF\", \"dataset_id\": \"KDDCup99\", \"score_type\": \"AUC on Test\", \"value\": 0.5843413254181872, \"sort\": 0.986328125}, {\"algo_name\": \"LOF\", \"dataset_id\": \"Lymphography\", \"score_type\": \"AUC on Validation\", \"value\": 1.0, \"sort\": 1.0}, {\"algo_name\": \"LOF\", \"dataset_id\": \"Lymphography\", \"score_type\": \"AUC on Test\", \"value\": 0.9054621848739496, \"sort\": 1.0}, {\"algo_name\": \"LOF\", \"dataset_id\": \"PageBlocks\", \"score_type\": \"AUC on Validation\", \"value\": 0.8412698412698413, \"sort\": 0.8412698412698413}, {\"algo_name\": \"LOF\", \"dataset_id\": \"PageBlocks\", \"score_type\": \"AUC on Test\", \"value\": 0.6591377644284013, \"sort\": 0.8412698412698413}, {\"algo_name\": \"LOF\", \"dataset_id\": \"Pima\", \"score_type\": \"AUC on Validation\", \"value\": 0.8163265306122449, \"sort\": 0.8163265306122449}, {\"algo_name\": \"LOF\", \"dataset_id\": \"Pima\", \"score_type\": \"AUC on Test\", \"value\": 0.7384497036064981, \"sort\": 0.8163265306122449}, {\"algo_name\": \"LOF\", \"dataset_id\": \"Shuttle\", \"score_type\": \"AUC on Validation\", \"value\": 0.9733333333333334, \"sort\": 0.9733333333333334}, {\"algo_name\": \"LOF\", \"dataset_id\": \"Shuttle\", \"score_type\": \"AUC on Test\", \"value\": 0.9446700507614212, \"sort\": 0.9733333333333334}, {\"algo_name\": \"LOF\", \"dataset_id\": \"SpamBase\", \"score_type\": \"AUC on Validation\", \"value\": 0.8493377483443708, \"sort\": 0.8493377483443708}, {\"algo_name\": \"LOF\", \"dataset_id\": \"SpamBase\", \"score_type\": \"AUC on Test\", \"value\": 0.8044558221967615, \"sort\": 0.8493377483443708}, {\"algo_name\": \"LOF\", \"dataset_id\": \"Stamps\", \"score_type\": \"AUC on Validation\", \"value\": 0.8620689655172414, \"sort\": 0.8620689655172414}, {\"algo_name\": \"LOF\", \"dataset_id\": \"Stamps\", \"score_type\": \"AUC on Test\", \"value\": 0.9002551020408163, \"sort\": 0.8620689655172414}, {\"algo_name\": \"LOF\", \"dataset_id\": \"WBC\", \"score_type\": \"AUC on Validation\", \"value\": 0.98, \"sort\": 0.98}, {\"algo_name\": \"LOF\", \"dataset_id\": \"WBC\", \"score_type\": \"AUC on Test\", \"value\": 0.9946969696969696, \"sort\": 0.98}, {\"algo_name\": \"LOF\", \"dataset_id\": \"WDBC\", \"score_type\": \"AUC on Validation\", \"value\": 1.0, \"sort\": 1.0}, {\"algo_name\": \"LOF\", \"dataset_id\": \"WDBC\", \"score_type\": \"AUC on Test\", \"value\": 0.7564935064935066, \"sort\": 1.0}, {\"algo_name\": \"LOF\", \"dataset_id\": \"Waveform\", \"score_type\": \"AUC on Validation\", \"value\": 0.6588486140724947, \"sort\": 0.6588486140724947}, {\"algo_name\": \"LOF\", \"dataset_id\": \"Waveform\", \"score_type\": \"AUC on Test\", \"value\": 0.752277502857573, \"sort\": 0.6588486140724947}, {\"algo_name\": \"OCSVM\", \"dataset_id\": \"ALOI\", \"score_type\": \"AUC on Validation\", \"value\": 0.7337284147143303, \"sort\": 0.7337284147143303}, {\"algo_name\": \"OCSVM\", \"dataset_id\": \"ALOI\", \"score_type\": \"AUC on Test\", \"value\": 0.7301863143987628, \"sort\": 0.7337284147143303}, {\"algo_name\": \"OCSVM\", \"dataset_id\": \"Annthyroid\", \"score_type\": \"AUC on Validation\", \"value\": 0.6696064020904785, \"sort\": 0.6696064020904785}, {\"algo_name\": \"OCSVM\", \"dataset_id\": \"Annthyroid\", \"score_type\": \"AUC on Test\", \"value\": 0.6561053051745409, \"sort\": 0.6696064020904785}, {\"algo_name\": \"OCSVM\", \"dataset_id\": \"Arrhythmia\", \"score_type\": \"AUC on Validation\", \"value\": 0.967948717948718, \"sort\": 0.967948717948718}, {\"algo_name\": \"OCSVM\", \"dataset_id\": \"Arrhythmia\", \"score_type\": \"AUC on Test\", \"value\": 0.7835648148148148, \"sort\": 0.967948717948718}, {\"algo_name\": \"OCSVM\", \"dataset_id\": \"Cardiotocography\", \"score_type\": \"AUC on Validation\", \"value\": 0.991304347826087, \"sort\": 0.991304347826087}, {\"algo_name\": \"OCSVM\", \"dataset_id\": \"Cardiotocography\", \"score_type\": \"AUC on Test\", \"value\": 0.9626657969123724, \"sort\": 0.991304347826087}, {\"algo_name\": \"OCSVM\", \"dataset_id\": \"InternetAds\", \"score_type\": \"AUC on Validation\", \"value\": 0.7523809523809524, \"sort\": 0.7523809523809524}, {\"algo_name\": \"OCSVM\", \"dataset_id\": \"InternetAds\", \"score_type\": \"AUC on Test\", \"value\": 0.5013063229237396, \"sort\": 0.7523809523809524}, {\"algo_name\": \"OCSVM\", \"dataset_id\": \"Ionosphere\", \"score_type\": \"AUC on Validation\", \"value\": 1.0, \"sort\": 1.0}, {\"algo_name\": \"OCSVM\", \"dataset_id\": \"Ionosphere\", \"score_type\": \"AUC on Test\", \"value\": 0.8021424070573409, \"sort\": 1.0}, {\"algo_name\": \"OCSVM\", \"dataset_id\": \"KDDCup99\", \"score_type\": \"AUC on Validation\", \"value\": 1.0, \"sort\": 1.0}, {\"algo_name\": \"OCSVM\", \"dataset_id\": \"KDDCup99\", \"score_type\": \"AUC on Test\", \"value\": 0.9335281598747616, \"sort\": 1.0}, {\"algo_name\": \"OCSVM\", \"dataset_id\": \"Lymphography\", \"score_type\": \"AUC on Validation\", \"value\": 1.0, \"sort\": 1.0}, {\"algo_name\": \"OCSVM\", \"dataset_id\": \"Lymphography\", \"score_type\": \"AUC on Test\", \"value\": 0.9600840336134454, \"sort\": 1.0}, {\"algo_name\": \"OCSVM\", \"dataset_id\": \"PageBlocks\", \"score_type\": \"AUC on Validation\", \"value\": 0.9523809523809524, \"sort\": 0.9523809523809524}, {\"algo_name\": \"OCSVM\", \"dataset_id\": \"PageBlocks\", \"score_type\": \"AUC on Test\", \"value\": 0.7135836665944568, \"sort\": 0.9523809523809524}, {\"algo_name\": \"OCSVM\", \"dataset_id\": \"Pima\", \"score_type\": \"AUC on Validation\", \"value\": 0.8809523809523809, \"sort\": 0.8809523809523809}, {\"algo_name\": \"OCSVM\", \"dataset_id\": \"Pima\", \"score_type\": \"AUC on Test\", \"value\": 0.8244490700936694, \"sort\": 0.8809523809523809}, {\"algo_name\": \"OCSVM\", \"dataset_id\": \"Shuttle\", \"score_type\": \"AUC on Validation\", \"value\": 0.9466666666666668, \"sort\": 0.9466666666666668}, {\"algo_name\": \"OCSVM\", \"dataset_id\": \"Shuttle\", \"score_type\": \"AUC on Test\", \"value\": 0.5720812182741117, \"sort\": 0.9466666666666668}, {\"algo_name\": \"OCSVM\", \"dataset_id\": \"SpamBase\", \"score_type\": \"AUC on Validation\", \"value\": 0.9751655629139072, \"sort\": 0.9751655629139072}, {\"algo_name\": \"OCSVM\", \"dataset_id\": \"SpamBase\", \"score_type\": \"AUC on Test\", \"value\": 0.8200261370044486, \"sort\": 0.9751655629139072}, {\"algo_name\": \"OCSVM\", \"dataset_id\": \"Stamps\", \"score_type\": \"AUC on Validation\", \"value\": 0.9655172413793104, \"sort\": 0.9655172413793104}, {\"algo_name\": \"OCSVM\", \"dataset_id\": \"Stamps\", \"score_type\": \"AUC on Test\", \"value\": 0.7683673469387755, \"sort\": 0.9655172413793104}, {\"algo_name\": \"OCSVM\", \"dataset_id\": \"WBC\", \"score_type\": \"AUC on Validation\", \"value\": 1.0, \"sort\": 1.0}, {\"algo_name\": \"OCSVM\", \"dataset_id\": \"WBC\", \"score_type\": \"AUC on Test\", \"value\": 0.9121212121212122, \"sort\": 1.0}, {\"algo_name\": \"OCSVM\", \"dataset_id\": \"WDBC\", \"score_type\": \"AUC on Validation\", \"value\": 1.0, \"sort\": 1.0}, {\"algo_name\": \"OCSVM\", \"dataset_id\": \"WDBC\", \"score_type\": \"AUC on Test\", \"value\": 0.7792207792207793, \"sort\": 1.0}, {\"algo_name\": \"OCSVM\", \"dataset_id\": \"Waveform\", \"score_type\": \"AUC on Validation\", \"value\": 0.8322672352523098, \"sort\": 0.8322672352523098}, {\"algo_name\": \"OCSVM\", \"dataset_id\": \"Waveform\", \"score_type\": \"AUC on Test\", \"value\": 0.486588228852248, \"sort\": 0.8322672352523098}]}}, {\"mode\": \"vega-lite\"});\n",
       "</script>"
      ],
      "text/plain": [
       "alt.Chart(...)"
      ]
     },
     "execution_count": 49,
     "metadata": {},
     "output_type": "execute_result"
    }
   ],
   "source": [
    "get_data_and_plot_difference_between_test_and_validation_performance(processed_path/'statistical_validation_set_multiple_10runs'/'size=0.05'/f'run1', datasets_to_use)"
   ]
  }
 ],
 "metadata": {
  "kernelspec": {
   "display_name": "Python 3",
   "language": "python",
   "name": "python3"
  },
  "language_info": {
   "codemirror_mode": {
    "name": "ipython",
    "version": 3
   },
   "file_extension": ".py",
   "mimetype": "text/x-python",
   "name": "python",
   "nbconvert_exporter": "python",
   "pygments_lexer": "ipython3",
   "version": "3.9.5"
  }
 },
 "nbformat": 4,
 "nbformat_minor": 4
}
