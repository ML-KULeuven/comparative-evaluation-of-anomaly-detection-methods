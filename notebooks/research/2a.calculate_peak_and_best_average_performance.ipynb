{
 "cells": [
  {
   "cell_type": "markdown",
   "metadata": {},
   "source": [
    "# Calculate peak and best-average performance\n",
    "Process the results of the gridsearch and calculate peak and best-average performance.  \n",
    "*note: here best-average performance is calculated over all datasets while later we use certain versions of each dataset and therefore best-average performance needs to be recalculated then*"
   ]
  },
  {
   "cell_type": "markdown",
   "metadata": {},
   "source": [
    "## Imports and config"
   ]
  },
  {
   "cell_type": "code",
   "execution_count": null,
   "metadata": {},
   "outputs": [],
   "source": [
    "%load_ext autoreload\n",
    "%autoreload 2"
   ]
  },
  {
   "cell_type": "code",
   "execution_count": null,
   "metadata": {},
   "outputs": [],
   "source": [
    "import pandas as pd \n",
    "import numpy as np\n",
    "from pathlib import Path\n",
    "from ODD.analysis.hyperparameters import select_peak_performance, select_best_average_performance\n",
    "from ODD.analysis.result_processing import average_performance_per_method, average_aligned_ranks_with_versions, average_ranks_with_versions, average_ranks_with_versions_and_nemenyi\n",
    "from tqdm import tqdm\n",
    "import altair as alt \n",
    "alt.data_transformers.disable_max_rows()\n",
    "from collections import defaultdict"
   ]
  },
  {
   "cell_type": "code",
   "execution_count": null,
   "metadata": {},
   "outputs": [],
   "source": [
    "version_dict = defaultdict(lambda : 1)\n",
    "version_dict['HBOS'] = 2\n",
    "version_dict['CBLOF'] = 2\n",
    "version_dict['IForest'] = 2\n",
    "version_dict['OCSVM'] = 3\n",
    "algorithms = ['CBLOF', 'HBOS', 'IForest', 'KNN' , 'LOF', 'OCSVM']"
   ]
  },
  {
   "cell_type": "code",
   "execution_count": null,
   "metadata": {},
   "outputs": [],
   "source": [
    "OUTPUT_VERSION = 2\n",
    "result_path = Path()/'results'\n",
    "processed_path = Path()/'processed_results_v5'"
   ]
  },
  {
   "cell_type": "code",
   "execution_count": null,
   "metadata": {},
   "outputs": [],
   "source": [
    "evaluation_functions = dict(\n",
    "    peak_performance = select_peak_performance, \n",
    "    best_average_performance = select_best_average_performance, \n",
    "    default_performance = None,\n",
    "    tuned_performance = None\n",
    ")"
   ]
  },
  {
   "cell_type": "markdown",
   "metadata": {},
   "source": [
    "## Actual calculation"
   ]
  },
  {
   "cell_type": "code",
   "execution_count": null,
   "metadata": {},
   "outputs": [],
   "source": [
    "for algo in algorithms: \n",
    "    version = version_dict[algo]\n",
    "    # read result\n",
    "    r_path = result_path / f\"grid_{algo}_v{version}.pkl\"\n",
    "    grid_results = None\n",
    "    for evaluation_name, select_function in tqdm(evaluation_functions.items(), desc = algo): \n",
    "        if select_function is None: \n",
    "            continue\n",
    "        proc_path = processed_path / f\"{evaluation_name}\" / f\"{algo}.csv\"\n",
    "        \n",
    "        # if result is already calculated, skip\n",
    "        if proc_path.exists(): \n",
    "            continue \n",
    "        \n",
    "        # make directory if necessary\n",
    "        proc_path.parent.mkdir(parents = True, exist_ok = True)\n",
    "        \n",
    "        # only load grid once, if necessary\n",
    "        if grid_results is None: \n",
    "            grid_results = pd.read_pickle(r_path)\n",
    "        \n",
    "        # calculate peak/best-average performance\n",
    "        result_df = select_function(grid_results)\n",
    "        \n",
    "        # save result\n",
    "        result_df.to_pickle(processed_path/f'{evaluation_name}'/ f'{algo}.pkl')\n",
    "        result_df.to_csv(proc_path)\n",
    "        "
   ]
  }
 ],
 "metadata": {
  "kernelspec": {
   "display_name": "Python 3",
   "language": "python",
   "name": "python3"
  },
  "language_info": {
   "codemirror_mode": {
    "name": "ipython",
    "version": 3
   },
   "file_extension": ".py",
   "mimetype": "text/x-python",
   "name": "python",
   "nbconvert_exporter": "python",
   "pygments_lexer": "ipython3",
   "version": "3.9.5"
  }
 },
 "nbformat": 4,
 "nbformat_minor": 4
}
