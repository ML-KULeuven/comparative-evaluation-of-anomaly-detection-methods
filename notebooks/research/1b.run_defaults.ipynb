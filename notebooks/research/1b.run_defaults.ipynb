{
 "cells": [
  {
   "cell_type": "markdown",
   "id": "2528f6b0",
   "metadata": {},
   "source": [
    "# Run default configurations\n"
   ]
  },
  {
   "cell_type": "markdown",
   "id": "1927a127-9cef-4e0c-922c-b80ee7f55a18",
   "metadata": {},
   "source": [
    "Because the default hyperparameter settings are not necessarily included in the grid, we run these seperately.  \n",
    "These config files were made manually. See `config/defaults_all_v2.toml` for all the used parameters.  \n",
    "*note: the experiments are ran for way more datasets than actually used in the final results*"
   ]
  },
  {
   "cell_type": "code",
   "execution_count": null,
   "id": "112dc483",
   "metadata": {},
   "outputs": [],
   "source": [
    "%load_ext autoreload\n",
    "%autoreload 2"
   ]
  },
  {
   "cell_type": "markdown",
   "id": "aa2a2011-c685-4e0f-87b6-584d7d6d267f",
   "metadata": {},
   "source": [
    "## Import and config"
   ]
  },
  {
   "cell_type": "code",
   "execution_count": null,
   "id": "39cded11",
   "metadata": {},
   "outputs": [],
   "source": [
    "import numpy as np\n",
    "from ODD.workflows.experiment_config import execute_experiment, get_results_from_config\n",
    "from pathlib import Path"
   ]
  },
  {
   "cell_type": "code",
   "execution_count": null,
   "id": "1cf4cee1-7635-4745-92a2-6f160470b857",
   "metadata": {},
   "outputs": [],
   "source": [
    "VERSION=2"
   ]
  },
  {
   "cell_type": "code",
   "execution_count": null,
   "id": "3eb41d06-02ce-43aa-b6d4-4ddb739532dc",
   "metadata": {},
   "outputs": [],
   "source": [
    "config_name = Path()/'config'/f'defaults_all_v{VERSION}.toml'\n",
    "result_name = Path()/'results'/f'defaults_all_v{VERSION}.pkl'\n",
    "processed_dir = Path()/'processed_results_v5'"
   ]
  },
  {
   "cell_type": "code",
   "execution_count": null,
   "id": "05b2e9b1-6589-47a6-b103-546f0e9495cc",
   "metadata": {},
   "outputs": [],
   "source": [
    "scheduler = \"domain_to_dask_scheduler.com:8786\""
   ]
  },
  {
   "cell_type": "markdown",
   "id": "a32566e0-1bba-4749-94f5-302e4cd2de0b",
   "metadata": {},
   "source": [
    "## Run the algorithms based on the config file"
   ]
  },
  {
   "cell_type": "code",
   "execution_count": null,
   "id": "185ff5e4-2ef4-4409-aeec-9e1bc28f200f",
   "metadata": {},
   "outputs": [],
   "source": [
    "result_df = execute_experiment(config_name, result_name, dask_scheduler = scheduler, shuffle = True, progress = False)\n",
    "result_df = get_results_from_config(config_name)"
   ]
  },
  {
   "cell_type": "markdown",
   "id": "9b5f7bae-b2c7-468f-8ff1-f33086516cb9",
   "metadata": {},
   "source": [
    "## Directly write these results to the processed results directory\n",
    "(because there is no further processing of these results necessary)"
   ]
  },
  {
   "cell_type": "code",
   "execution_count": null,
   "id": "5ddd5c0d",
   "metadata": {},
   "outputs": [],
   "source": [
    "for algo_name, df in result_df.groupby('algo_name'):\n",
    "    # rename IF to IForest\n",
    "    if algo_name == 'IF': \n",
    "        algo_name = 'IForest'\n",
    "    processed_name = processed_dir/f\"default_performance\"/ f\"{algo_name}.csv\"\n",
    "    processed_name.parent.mkdir(parents = True, exist_ok = True)\n",
    "    df.to_csv(processed_name)\n",
    "    processed_name = processed_dir/f\"default_performance\"/ f\"{algo_name}.pkl\"\n",
    "    df.to_pickle(processed_name)"
   ]
  }
 ],
 "metadata": {
  "kernelspec": {
   "display_name": "Python 3",
   "language": "python",
   "name": "python3"
  },
  "language_info": {
   "codemirror_mode": {
    "name": "ipython",
    "version": 3
   },
   "file_extension": ".py",
   "mimetype": "text/x-python",
   "name": "python",
   "nbconvert_exporter": "python",
   "pygments_lexer": "ipython3",
   "version": "3.9.5"
  }
 },
 "nbformat": 4,
 "nbformat_minor": 5
}
